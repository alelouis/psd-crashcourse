{
 "cells": [
  {
   "cell_type": "code",
   "execution_count": 1,
   "source": [
    "import numpy as np"
   ],
   "outputs": [],
   "metadata": {}
  },
  {
   "cell_type": "code",
   "execution_count": 70,
   "source": [
    "# signal generation\n",
    "sigma, fs, t = 5, 100, 10\n",
    "n = t*fs\n",
    "w = np.hamming(n)\n",
    "w = np.ones(n)\n",
    "s = (sigma / np.sqrt(2)) * (np.random.randn(n) + np.random.randn(n)) * w\n",
    "estimated_variance = s.var()*n/np.dot(w, w)\n",
    "estimated_energy = np.sum(np.abs(s)**2)\n",
    "print(f'Var of signal should be {sigma**2}, computed {estimated_variance:.2f}')\n"
   ],
   "outputs": [
    {
     "output_type": "stream",
     "name": "stdout",
     "text": [
      "Var of signal should be 25, computed 23.63\n"
     ]
    }
   ],
   "metadata": {}
  },
  {
   "cell_type": "markdown",
   "source": [
    "$$\\hat{x}(f) \\triangleq\\int_{-\\infty}^\\infty e^{-i 2\\pi ft}x(t) \\ dt$$"
   ],
   "metadata": {}
  },
  {
   "cell_type": "code",
   "execution_count": 97,
   "source": [
    "t_vec = np.arange(0, t, 1./fs)\n",
    "f_vec = np.linspace(-fs/2, fs/2, n)\n",
    "S, parseval = np.zeros(n, dtype=np.complex128), 1 / n\n",
    "for i, f in enumerate(f_vec):\n",
    "    S[i] = np.dot(s, np.exp(-1j*2*np.pi*f*t_vec))\n",
    "# or S = np.fft.fft(s)"
   ],
   "outputs": [],
   "metadata": {}
  },
  {
   "cell_type": "markdown",
   "source": [
    "$$\\bar{S}_{xx}(f) \\triangleq \\left |\\hat{x}(f) \\right |^2 $$"
   ],
   "metadata": {}
  },
  {
   "cell_type": "code",
   "execution_count": 101,
   "source": [
    "# Definition: Energy Spectral Density\n",
    "esd = np.abs(S)**2 \n",
    "esd *= n/np.dot(w, w) # energy correction from windowing"
   ],
   "outputs": [],
   "metadata": {}
  },
  {
   "cell_type": "markdown",
   "source": [
    "$$ \\sum_{n=0}^{N-1} | x[n] |^2  = \\frac{1}{N} \\sum_{k=0}^{N-1} | X[k] |^2 $$"
   ],
   "metadata": {}
  },
  {
   "cell_type": "code",
   "execution_count": 102,
   "source": [
    "# From parseval theorem, there is a factor N between temporal energy and sum of squared modulus of fft.\n",
    "int_esd = esd.sum()*parseval\n",
    "print(f'Energy of signal should be {estimated_energy:.1f}, computed {int_esd:.1f} from ESD integration.')"
   ],
   "outputs": [
    {
     "output_type": "stream",
     "name": "stdout",
     "text": [
      "Energy of signal should be 23632.6, computed 23603.6 from ESD integration.\n"
     ]
    }
   ],
   "metadata": {}
  },
  {
   "cell_type": "markdown",
   "source": [
    "$$S_{xx}(f) \\triangleq \\lim_{T\\to \\infty} \\frac 1 {T}  |\\hat{x}_{T}(f)|^2$$"
   ],
   "metadata": {}
  },
  {
   "cell_type": "code",
   "execution_count": 100,
   "source": [
    "# Definition: computing Power Spectral Density\n",
    "psd = esd / n\n",
    "# integrating PSD, expecting total variance\n",
    "int_psd = psd.sum()*parseval\n",
    "print(f'Var of signal should be {sigma**2}, computed {int_psd:.1f} from PSD integration.')"
   ],
   "outputs": [
    {
     "output_type": "stream",
     "name": "stdout",
     "text": [
      "Var of signal should be 25, computed 23.6 from PSD integration.\n"
     ]
    }
   ],
   "metadata": {}
  },
  {
   "cell_type": "code",
   "execution_count": null,
   "source": [],
   "outputs": [],
   "metadata": {}
  }
 ],
 "metadata": {
  "orig_nbformat": 4,
  "language_info": {
   "name": "python",
   "version": "3.8.11",
   "mimetype": "text/x-python",
   "codemirror_mode": {
    "name": "ipython",
    "version": 3
   },
   "pygments_lexer": "ipython3",
   "nbconvert_exporter": "python",
   "file_extension": ".py"
  },
  "kernelspec": {
   "name": "python3",
   "display_name": "Python 3.8.11 64-bit ('carac-uhd': conda)"
  },
  "interpreter": {
   "hash": "fc3977148c00e46f26309abf8c009ce65837031b5c5e3342994526a1217057a0"
  }
 },
 "nbformat": 4,
 "nbformat_minor": 2
}